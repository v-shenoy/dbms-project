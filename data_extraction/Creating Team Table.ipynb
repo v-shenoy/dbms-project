{
 "cells": [
  {
   "cell_type": "code",
   "execution_count": 56,
   "metadata": {},
   "outputs": [],
   "source": [
    "import pandas as pd\n",
    "import numpy as np\n",
    "from collections import defaultdict"
   ]
  },
  {
   "cell_type": "code",
   "execution_count": 57,
   "metadata": {},
   "outputs": [
    {
     "data": {
      "text/html": [
       "<div>\n",
       "<style scoped>\n",
       "    .dataframe tbody tr th:only-of-type {\n",
       "        vertical-align: middle;\n",
       "    }\n",
       "\n",
       "    .dataframe tbody tr th {\n",
       "        vertical-align: top;\n",
       "    }\n",
       "\n",
       "    .dataframe thead th {\n",
       "        text-align: right;\n",
       "    }\n",
       "</style>\n",
       "<table border=\"1\" class=\"dataframe\">\n",
       "  <thead>\n",
       "    <tr style=\"text-align: right;\">\n",
       "      <th></th>\n",
       "      <th>Match_Id</th>\n",
       "      <th>Player_Id</th>\n",
       "      <th>Team_Id</th>\n",
       "      <th>Is_Keeper</th>\n",
       "      <th>Is_Captain</th>\n",
       "    </tr>\n",
       "  </thead>\n",
       "  <tbody>\n",
       "    <tr>\n",
       "      <th>0</th>\n",
       "      <td>335987</td>\n",
       "      <td>1</td>\n",
       "      <td>1</td>\n",
       "      <td>0</td>\n",
       "      <td>1</td>\n",
       "    </tr>\n",
       "    <tr>\n",
       "      <th>1</th>\n",
       "      <td>335987</td>\n",
       "      <td>2</td>\n",
       "      <td>1</td>\n",
       "      <td>0</td>\n",
       "      <td>0</td>\n",
       "    </tr>\n",
       "    <tr>\n",
       "      <th>2</th>\n",
       "      <td>335987</td>\n",
       "      <td>3</td>\n",
       "      <td>1</td>\n",
       "      <td>0</td>\n",
       "      <td>0</td>\n",
       "    </tr>\n",
       "    <tr>\n",
       "      <th>3</th>\n",
       "      <td>335987</td>\n",
       "      <td>4</td>\n",
       "      <td>1</td>\n",
       "      <td>0</td>\n",
       "      <td>0</td>\n",
       "    </tr>\n",
       "    <tr>\n",
       "      <th>4</th>\n",
       "      <td>335987</td>\n",
       "      <td>5</td>\n",
       "      <td>1</td>\n",
       "      <td>0</td>\n",
       "      <td>0</td>\n",
       "    </tr>\n",
       "  </tbody>\n",
       "</table>\n",
       "</div>"
      ],
      "text/plain": [
       "   Match_Id  Player_Id  Team_Id  Is_Keeper  Is_Captain\n",
       "0    335987          1        1          0           1\n",
       "1    335987          2        1          0           0\n",
       "2    335987          3        1          0           0\n",
       "3    335987          4        1          0           0\n",
       "4    335987          5        1          0           0"
      ]
     },
     "execution_count": 57,
     "metadata": {},
     "output_type": "execute_result"
    }
   ],
   "source": [
    "df = pd.read_csv('Player_Match.csv')\n",
    "df.head()"
   ]
  },
  {
   "cell_type": "code",
   "execution_count": 58,
   "metadata": {},
   "outputs": [
    {
     "name": "stdout",
     "output_type": "stream",
     "text": [
      "defaultdict(<class 'int'>, {1: 132, 2: 139, 3: 131, 4: 134, 5: 118, 6: 133, 7: 140, 8: 75, 9: 14, 10: 46, 11: 62, 12: 14, 13: 16})\n"
     ]
    }
   ],
   "source": [
    "d = defaultdict(int)\n",
    "for i in range(len(df)):\n",
    "    a = df.iloc[i][2]\n",
    "    d[a] += 1\n",
    "for i in d:\n",
    "    d[i] = d[i]//11\n",
    "print(d)"
   ]
  },
  {
   "cell_type": "code",
   "execution_count": 59,
   "metadata": {},
   "outputs": [],
   "source": [
    "result = []\n",
    "for i in d:\n",
    "    result.append(d[i])"
   ]
  },
  {
   "cell_type": "code",
   "execution_count": 60,
   "metadata": {},
   "outputs": [
    {
     "data": {
      "text/html": [
       "<div>\n",
       "<style scoped>\n",
       "    .dataframe tbody tr th:only-of-type {\n",
       "        vertical-align: middle;\n",
       "    }\n",
       "\n",
       "    .dataframe tbody tr th {\n",
       "        vertical-align: top;\n",
       "    }\n",
       "\n",
       "    .dataframe thead th {\n",
       "        text-align: right;\n",
       "    }\n",
       "</style>\n",
       "<table border=\"1\" class=\"dataframe\">\n",
       "  <thead>\n",
       "    <tr style=\"text-align: right;\">\n",
       "      <th></th>\n",
       "      <th>Match_Id</th>\n",
       "      <th>Match_Date</th>\n",
       "      <th>Team_Name_Id</th>\n",
       "      <th>Opponent_Team_Id</th>\n",
       "      <th>Season_Id</th>\n",
       "      <th>Venue_Name</th>\n",
       "      <th>Toss_Winner_Id</th>\n",
       "      <th>Toss_Decision</th>\n",
       "      <th>IS_Superover</th>\n",
       "      <th>IS_Result</th>\n",
       "      <th>Is_DuckWorthLewis</th>\n",
       "      <th>Win_Type</th>\n",
       "      <th>Won_By</th>\n",
       "      <th>Match_Winner_Id</th>\n",
       "      <th>Man_Of_The_Match_Id</th>\n",
       "      <th>First_Umpire_Id</th>\n",
       "      <th>Second_Umpire_Id</th>\n",
       "      <th>City_Name</th>\n",
       "      <th>Host_Country</th>\n",
       "    </tr>\n",
       "  </thead>\n",
       "  <tbody>\n",
       "    <tr>\n",
       "      <th>0</th>\n",
       "      <td>335987</td>\n",
       "      <td>18-Apr-08</td>\n",
       "      <td>2</td>\n",
       "      <td>1</td>\n",
       "      <td>1</td>\n",
       "      <td>M Chinnaswamy Stadium</td>\n",
       "      <td>2</td>\n",
       "      <td>field</td>\n",
       "      <td>0</td>\n",
       "      <td>1</td>\n",
       "      <td>0</td>\n",
       "      <td>by runs</td>\n",
       "      <td>140.0</td>\n",
       "      <td>1.0</td>\n",
       "      <td>2.0</td>\n",
       "      <td>470</td>\n",
       "      <td>477</td>\n",
       "      <td>Bangalore</td>\n",
       "      <td>India</td>\n",
       "    </tr>\n",
       "    <tr>\n",
       "      <th>1</th>\n",
       "      <td>335988</td>\n",
       "      <td>19-Apr-08</td>\n",
       "      <td>4</td>\n",
       "      <td>3</td>\n",
       "      <td>1</td>\n",
       "      <td>Punjab Cricket Association Stadium, Mohali</td>\n",
       "      <td>3</td>\n",
       "      <td>bat</td>\n",
       "      <td>0</td>\n",
       "      <td>1</td>\n",
       "      <td>0</td>\n",
       "      <td>by runs</td>\n",
       "      <td>33.0</td>\n",
       "      <td>3.0</td>\n",
       "      <td>19.0</td>\n",
       "      <td>471</td>\n",
       "      <td>487</td>\n",
       "      <td>Chandigarh</td>\n",
       "      <td>India</td>\n",
       "    </tr>\n",
       "    <tr>\n",
       "      <th>2</th>\n",
       "      <td>335989</td>\n",
       "      <td>19-Apr-08</td>\n",
       "      <td>6</td>\n",
       "      <td>5</td>\n",
       "      <td>1</td>\n",
       "      <td>Feroz Shah Kotla</td>\n",
       "      <td>5</td>\n",
       "      <td>bat</td>\n",
       "      <td>0</td>\n",
       "      <td>1</td>\n",
       "      <td>0</td>\n",
       "      <td>by wickets</td>\n",
       "      <td>9.0</td>\n",
       "      <td>6.0</td>\n",
       "      <td>90.0</td>\n",
       "      <td>472</td>\n",
       "      <td>512</td>\n",
       "      <td>Delhi</td>\n",
       "      <td>India</td>\n",
       "    </tr>\n",
       "    <tr>\n",
       "      <th>3</th>\n",
       "      <td>335990</td>\n",
       "      <td>20-Apr-08</td>\n",
       "      <td>7</td>\n",
       "      <td>2</td>\n",
       "      <td>1</td>\n",
       "      <td>Wankhede Stadium</td>\n",
       "      <td>7</td>\n",
       "      <td>bat</td>\n",
       "      <td>0</td>\n",
       "      <td>1</td>\n",
       "      <td>0</td>\n",
       "      <td>by wickets</td>\n",
       "      <td>5.0</td>\n",
       "      <td>2.0</td>\n",
       "      <td>11.0</td>\n",
       "      <td>473</td>\n",
       "      <td>476</td>\n",
       "      <td>Mumbai</td>\n",
       "      <td>India</td>\n",
       "    </tr>\n",
       "    <tr>\n",
       "      <th>4</th>\n",
       "      <td>335991</td>\n",
       "      <td>20-Apr-08</td>\n",
       "      <td>1</td>\n",
       "      <td>8</td>\n",
       "      <td>1</td>\n",
       "      <td>Eden Gardens</td>\n",
       "      <td>8</td>\n",
       "      <td>bat</td>\n",
       "      <td>0</td>\n",
       "      <td>1</td>\n",
       "      <td>0</td>\n",
       "      <td>by wickets</td>\n",
       "      <td>5.0</td>\n",
       "      <td>1.0</td>\n",
       "      <td>4.0</td>\n",
       "      <td>474</td>\n",
       "      <td>486</td>\n",
       "      <td>Kolkata</td>\n",
       "      <td>India</td>\n",
       "    </tr>\n",
       "  </tbody>\n",
       "</table>\n",
       "</div>"
      ],
      "text/plain": [
       "   Match_Id Match_Date  Team_Name_Id  Opponent_Team_Id  Season_Id  \\\n",
       "0    335987  18-Apr-08             2                 1          1   \n",
       "1    335988  19-Apr-08             4                 3          1   \n",
       "2    335989  19-Apr-08             6                 5          1   \n",
       "3    335990  20-Apr-08             7                 2          1   \n",
       "4    335991  20-Apr-08             1                 8          1   \n",
       "\n",
       "                                   Venue_Name  Toss_Winner_Id Toss_Decision  \\\n",
       "0                       M Chinnaswamy Stadium               2         field   \n",
       "1  Punjab Cricket Association Stadium, Mohali               3           bat   \n",
       "2                            Feroz Shah Kotla               5           bat   \n",
       "3                            Wankhede Stadium               7           bat   \n",
       "4                                Eden Gardens               8           bat   \n",
       "\n",
       "   IS_Superover  IS_Result  Is_DuckWorthLewis    Win_Type  Won_By  \\\n",
       "0             0          1                  0     by runs   140.0   \n",
       "1             0          1                  0     by runs    33.0   \n",
       "2             0          1                  0  by wickets     9.0   \n",
       "3             0          1                  0  by wickets     5.0   \n",
       "4             0          1                  0  by wickets     5.0   \n",
       "\n",
       "   Match_Winner_Id  Man_Of_The_Match_Id  First_Umpire_Id  Second_Umpire_Id  \\\n",
       "0              1.0                  2.0              470               477   \n",
       "1              3.0                 19.0              471               487   \n",
       "2              6.0                 90.0              472               512   \n",
       "3              2.0                 11.0              473               476   \n",
       "4              1.0                  4.0              474               486   \n",
       "\n",
       "    City_Name Host_Country  \n",
       "0   Bangalore        India  \n",
       "1  Chandigarh        India  \n",
       "2       Delhi        India  \n",
       "3      Mumbai        India  \n",
       "4     Kolkata        India  "
      ]
     },
     "execution_count": 60,
     "metadata": {},
     "output_type": "execute_result"
    }
   ],
   "source": [
    "df2 = pd.read_csv('Match.csv')\n",
    "df2.head()"
   ]
  },
  {
   "cell_type": "code",
   "execution_count": 61,
   "metadata": {},
   "outputs": [],
   "source": [
    "col = ['First_Umpire_Id', 'Second_Umpire_Id', 'Host_Country', 'City_Name', 'Is_DuckWorthLewis', 'Toss_Decision', 'Toss_Winner_Id']\n",
    "df2 = df2.drop(columns = col)"
   ]
  },
  {
   "cell_type": "code",
   "execution_count": 62,
   "metadata": {},
   "outputs": [
    {
     "name": "stdout",
     "output_type": "stream",
     "text": [
      "defaultdict(<class 'int'>, {1.0: 68, 3.0: 79, 6.0: 56, 2.0: 70, 5.0: 63, 4.0: 63, 8.0: 29, 7.0: 80, 10.0: 12, 9.0: 6, 11.0: 34, 12.0: 5, 13.0: 9})\n"
     ]
    }
   ],
   "source": [
    "d2 = defaultdict(int)\n",
    "for i in range(len(df2)):\n",
    "    b = df2.iloc[i][10]\n",
    "    if(b > 0 and b <= 13):\n",
    "        d2[b] += 1\n",
    "print(d2)"
   ]
  },
  {
   "cell_type": "code",
   "execution_count": 63,
   "metadata": {},
   "outputs": [
    {
     "data": {
      "text/plain": [
       "[68, 70, 79, 63, 63, 56, 80, 29, 6, 12, 34, 5, 9]"
      ]
     },
     "execution_count": 63,
     "metadata": {},
     "output_type": "execute_result"
    }
   ],
   "source": [
    "wins = [0 for i in range(1,15)]\n",
    "d2 = {int(k):int(v) for k,v in d2.items()}\n",
    "for i in d2:\n",
    "    wins[i] = d2[i]\n",
    "del(wins[0])\n",
    "wins"
   ]
  },
  {
   "cell_type": "code",
   "execution_count": 64,
   "metadata": {},
   "outputs": [
    {
     "name": "stdout",
     "output_type": "stream",
     "text": [
      "defaultdict(<class 'int'>, {1.0: 140.0, 3.0: 97.0, 6.0: 67.0, 2.0: 144.0, 5.0: 105.0, 4.0: 111.0, 8.0: 82.0, 7.0: 98.0, 10.0: 38.0, 9.0: 17.0, 11.0: 85.0, 12.0: 34.0, 13.0: 7.0})\n"
     ]
    }
   ],
   "source": [
    "d3 = defaultdict(int)\n",
    "for i in range(len(df2)):\n",
    "    c = df2.iloc[i][10]\n",
    "    d = df2.iloc[i][9]\n",
    "    if(c>0 and c <= 13 and d > d3[c]):\n",
    "        d3[c] = d\n",
    "print(d3)"
   ]
  },
  {
   "cell_type": "code",
   "execution_count": 65,
   "metadata": {},
   "outputs": [
    {
     "data": {
      "text/plain": [
       "{1: 140,\n",
       " 3: 97,\n",
       " 6: 67,\n",
       " 2: 144,\n",
       " 5: 105,\n",
       " 4: 111,\n",
       " 8: 82,\n",
       " 7: 98,\n",
       " 10: 38,\n",
       " 9: 17,\n",
       " 11: 85,\n",
       " 12: 34,\n",
       " 13: 7}"
      ]
     },
     "execution_count": 65,
     "metadata": {},
     "output_type": "execute_result"
    }
   ],
   "source": [
    "d3 = {int(k):int(v) for k,v in d3.items()}\n",
    "d3"
   ]
  },
  {
   "cell_type": "code",
   "execution_count": 66,
   "metadata": {},
   "outputs": [],
   "source": [
    "highestmargin = [0 for i in range(1,15)]\n",
    "for i in d3:\n",
    "    highestmargin[i] = d3[i]\n",
    "del(highestmargin[0])\n",
    "#result, wins, highestmargin completed"
   ]
  },
  {
   "cell_type": "code",
   "execution_count": 105,
   "metadata": {},
   "outputs": [],
   "source": [
    "homeground = ['Eden Gardens' ,'M. Chinnaswamy', 'M.A. Chidambram Chepauk', 'PCA Mohali', 'Sawai Mansingh Stadium', 'Feroz Shah Kotla', 'Wankhede', 'Rajiv Gandhi Stadium', 'Kochi Stadium', 'MCA Gahunje', 'Rajiv Gandhi Stadium', 'MCA Gahunje', 'Sardar Patel Stadium']"
   ]
  },
  {
   "cell_type": "code",
   "execution_count": 107,
   "metadata": {},
   "outputs": [],
   "source": [
    "highscores = ['245/6', '263/5', '246/5', '232/2', '223/5', '231/4', '223/6', '214/5', '184/2', '192/3', '209/3', '195/3', '208/7']\n",
    "lowscores = ['67', '49', '79', '73', '58', '66', '87', '82', '74', '99', '96', '108', '104']"
   ]
  },
  {
   "cell_type": "code",
   "execution_count": 110,
   "metadata": {},
   "outputs": [],
   "source": [
    "df3 =pd.read_csv('Team.csv')\n",
    "df3\n",
    "df3['Matches'] = result\n",
    "df3['Wins'] = wins\n",
    "df3['Highest_Score'] = highscores\n",
    "df3['Lowest_Score'] = lowscores\n",
    "df3['Biggest_Win'] = highestmargin\n",
    "df3['Homeground'] = homeground"
   ]
  },
  {
   "cell_type": "code",
   "execution_count": 112,
   "metadata": {},
   "outputs": [],
   "source": [
    "df3\n",
    "df3.to_csv('TeamDetails.csv')"
   ]
  }
 ],
 "metadata": {
  "kernelspec": {
   "display_name": "Python 3",
   "language": "python",
   "name": "python3"
  },
  "language_info": {
   "codemirror_mode": {
    "name": "ipython",
    "version": 3
   },
   "file_extension": ".py",
   "mimetype": "text/x-python",
   "name": "python",
   "nbconvert_exporter": "python",
   "pygments_lexer": "ipython3",
   "version": "3.6.7"
  }
 },
 "nbformat": 4,
 "nbformat_minor": 2
}
